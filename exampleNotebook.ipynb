{
 "cells": [
  {
   "cell_type": "markdown",
   "id": "54605d3e",
   "metadata": {},
   "source": [
    "# Run this if you want to do a clean make (Deletes the entire project file)"
   ]
  },
  {
   "cell_type": "code",
   "execution_count": null,
   "id": "da5c08c8",
   "metadata": {},
   "outputs": [],
   "source": [
    "import os\n",
    "os.system('rm my-hls-test -r -d')"
   ]
  },
  {
   "cell_type": "markdown",
   "id": "e48cd0a8",
   "metadata": {},
   "source": [
    "# Run this if you want to download the folder, which requires zipping it up"
   ]
  },
  {
   "cell_type": "code",
   "execution_count": null,
   "id": "a1be8af9",
   "metadata": {},
   "outputs": [],
   "source": [
    "!tar chvfz notebook.tar.gz *"
   ]
  },
  {
   "cell_type": "markdown",
   "id": "1c1cb110",
   "metadata": {},
   "source": [
    "# Run the next 2 boxes in order to create the directory and load the hls4ml library"
   ]
  },
  {
   "cell_type": "code",
   "execution_count": null,
   "id": "04cc2e55",
   "metadata": {},
   "outputs": [],
   "source": [
    "from tensorflow.keras.utils import to_categorical\n",
    "from sklearn.datasets import fetch_openml\n",
    "from sklearn.model_selection import train_test_split\n",
    "from sklearn.preprocessing import LabelEncoder, StandardScaler\n",
    "import numpy as np\n",
    "%matplotlib inline\n",
    "seed = 0\n",
    "np.random.seed(seed)\n",
    "import tensorflow as tf\n",
    "tf.random.set_seed(seed)\n",
    "import os\n",
    "os.environ['PATH'] = '/opt/Xilinx/Vivado/2019.2/bin:' + os.environ['PATH']\n",
    "import hls4ml"
   ]
  },
  {
   "cell_type": "code",
   "execution_count": null,
   "id": "8569d274",
   "metadata": {},
   "outputs": [],
   "source": [
    "from tensorflow.keras.models import Sequential, model_from_json\n",
    "from tensorflow.keras.layers import Dense, Activation, BatchNormalization\n",
    "from tensorflow.keras.optimizers import Adam\n",
    "from tensorflow.keras.regularizers import l1"
   ]
  },
  {
   "cell_type": "markdown",
   "id": "c1ce4b83",
   "metadata": {},
   "source": [
    "## If you want to use an example model, edit the fetch and open lines below\n",
    "       The for-loop in this box is an example of how you could modify invidiual layers"
   ]
  },
  {
   "cell_type": "code",
   "execution_count": null,
   "id": "fb51badc",
   "metadata": {},
   "outputs": [],
   "source": [
    "hls_config = hls4ml.utils.fetch_example_model('KERAS_conv2d_model.json')\n",
    "json_file = open('KERAS_conv2d_model.json')\n",
    "loaded = json_file.read()\n",
    "json_file.close()\n",
    "model = model_from_json(loaded)\n",
    "\n",
    "hls_config = hls4ml.utils.config_from_keras_model(model, granularity='name')\n",
    "for Layer in hls_config['LayerName'].keys():\n",
    "    hls_config['LayerName'][Layer]['Strategy'] = 'Latency'\n",
    "    hls_config['LayerName'][Layer]['ReuseFactor'] = 1\n",
    "#If you want best numerical performance for high-accuray models, while the default latency strategy is faster but numerically more unstable\n",
    "hls_config['LayerName']['dense_1_softmax']['Strategy'] = 'Stable'\n"
   ]
  },
  {
   "cell_type": "code",
   "execution_count": null,
   "id": "8235026a",
   "metadata": {},
   "outputs": [],
   "source": [
    "print(hls_config)"
   ]
  },
  {
   "cell_type": "code",
   "execution_count": null,
   "id": "3891f4eb",
   "metadata": {},
   "outputs": [],
   "source": [
    "# Create the config for the model\n",
    "cfg = hls4ml.converters.create_config(backend='Vivado')\n",
    "cfg['IOType']     = 'io_stream' # Must set this if using CNNs!\n",
    "cfg['HLSConfig']  = hls_config\n",
    "cfg['KerasModel'] = model\n",
    "cfg['OutputDir']  = 'cnn/'\n",
    "cfg['XilinxPart'] = 'xcu250-figd2104-2L-e'\n",
    "\n",
    "print(cfg) #You can print it to see some default parameters\n",
    "\n",
    "#Convert it to a hls project\n",
    "\n",
    "hls_model = hls4ml.converters.keras_to_hls(cfg)\n",
    "hls4ml.utils.plot_model(hls_model, show_shapes=True, show_precision=True, to_file=None)"
   ]
  },
  {
   "cell_type": "markdown",
   "id": "37c3de6f",
   "metadata": {},
   "source": [
    "## This is where the model will actually be built\n",
    "    Run this once to create the my-hls-test directory, which will contain all of the C++ files, as well as weights, biases and verilog files\n",
    "    If you want to change the weights and biases, run this to make sure the directory is created, then\n",
    "          Go to my-hls-test/firmware/weights and replace the weights and biases with your own. \n",
    "                 Make sure you keep the rest of those files the same"
   ]
  },
  {
   "cell_type": "code",
   "execution_count": null,
   "id": "42dc1897",
   "metadata": {
    "scrolled": true
   },
   "outputs": [],
   "source": [
    "resultOfBuild = hls_model.build(csim=False)\n",
    "\n",
    "# In some cases the model does not update the part, this code fixes it and re-runs the build\n",
    "if (not resultOfBuild):\n",
    "    with open('my-hls-test/build_prj.tcl', 'r') as file :\n",
    "      filedata = file.read()\n",
    "\n",
    "    # Replace the target string\n",
    "    filedata = filedata.replace('xcku115-flvb2104-2-i', 'xcu250-figd2104-2L-e')\n",
    "\n",
    "    # Write the file out again\n",
    "    with open('my-hls-test/build_prj.tcl', 'w') as file:\n",
    "      file.write(filedata)\n",
    "    hls_model.build(csim=False)\n"
   ]
  },
  {
   "cell_type": "code",
   "execution_count": null,
   "id": "6e518d45",
   "metadata": {},
   "outputs": [],
   "source": []
  }
 ],
 "metadata": {
  "kernelspec": {
   "display_name": "Python 3 (ipykernel)",
   "language": "python",
   "name": "python3"
  },
  "language_info": {
   "codemirror_mode": {
    "name": "ipython",
    "version": 3
   },
   "file_extension": ".py",
   "mimetype": "text/x-python",
   "name": "python",
   "nbconvert_exporter": "python",
   "pygments_lexer": "ipython3",
   "version": "3.7.12"
  }
 },
 "nbformat": 4,
 "nbformat_minor": 5
}
